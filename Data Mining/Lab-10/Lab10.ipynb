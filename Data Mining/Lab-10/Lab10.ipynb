{
  "cells": [
    {
      "cell_type": "markdown",
      "id": "02b33ee5",
      "metadata": {
        "id": "02b33ee5"
      },
      "source": [
        "<center><a href='https://www.darshan.ac.in/'> <img src='https://www.darshan.ac.in/Content/media/DU_Logo.svg' width=\"250\" height=\"300\"/></a></center>\n",
        "<pre>\n",
        "<center><b><h1>Data Mining</b></center>\n",
        "<center><b><h1>Gohel Neel</b></center>\n",
        "<center><b><h3>Enrollnment No. : 23010101089</b></center>\n",
        "<center><b><h3>Date: 22-08-2025</b></center>\n",
        "<center><b><h1>Lab - 10</b></center>    \n",
        "<pre>"
      ]
    },
    {
      "cell_type": "markdown",
      "id": "0a09b1b5",
      "metadata": {
        "id": "0a09b1b5"
      },
      "source": [
        "\n",
        "\n",
        "# Implement Decision Tree(ID3) in python\n",
        "Uses Information Gain to choose the best feature to split.\n",
        "\n",
        "Recursively builds the tree until stopping conditions are met."
      ]
    },
    {
      "cell_type": "markdown",
      "id": "a811596d",
      "metadata": {
        "id": "a811596d"
      },
      "source": [
        "1) Calculate Entropy for the dataset.<BR>\n",
        "2) Calculate Information Gain for each feature. <BR>\n",
        "3) Choose the feature with maximum Information Gain. <BR>\n",
        "4) Split dataset into subsets for that feature. <BR>\n",
        "5) Repeat recursively until: <BR>\n",
        "\n",
        "All samples in a node have the same label.<BR>\n",
        "No features are left.<BR>\n",
        "No data is left."
      ]
    },
    {
      "cell_type": "markdown",
      "id": "a2a39aab",
      "metadata": {
        "id": "a2a39aab"
      },
      "source": [
        "### Step 2. Import the dataset from this [address](https://raw.githubusercontent.com/justmarkham/DAT8/master/data/chipotle.tsv)."
      ]
    },
    {
      "cell_type": "markdown",
      "id": "6116e372",
      "metadata": {
        "id": "6116e372"
      },
      "source": [
        "##  import Pandas, Numpy"
      ]
    },
    {
      "cell_type": "code",
      "execution_count": 35,
      "id": "e30bca04",
      "metadata": {
        "id": "e30bca04"
      },
      "outputs": [],
      "source": [
        "import pandas as pd\n",
        "import numpy as np"
      ]
    },
    {
      "cell_type": "markdown",
      "id": "c6040543",
      "metadata": {
        "id": "c6040543"
      },
      "source": [
        "##  Create Following Data"
      ]
    },
    {
      "cell_type": "code",
      "execution_count": 44,
      "id": "060c6cb6",
      "metadata": {
        "id": "060c6cb6"
      },
      "outputs": [],
      "source": [
        "data = pd.DataFrame({\n",
        "    'Outlook': ['Sunny', 'Sunny', 'Overcast', 'Rain', 'Rain', 'Rain', 'Overcast', 'Sunny', 'Sunny', 'Rain', 'Sunny', 'Overcast', 'Overcast', 'Rain'],\n",
        "    'Temperature': ['Hot', 'Hot', 'Hot', 'Mild', 'Cool', 'Cool', 'Cool', 'Mild', 'Cool', 'Mild', 'Mild', 'Mild', 'Hot', 'Mild'],\n",
        "    'Humidity': ['High', 'High', 'High', 'High', 'Normal', 'Normal', 'Normal', 'High', 'Normal', 'Normal', 'Normal', 'High', 'Normal', 'High'],\n",
        "    'Wind': ['Weak', 'Strong', 'Weak', 'Weak', 'Weak', 'Strong', 'Strong', 'Weak', 'Weak', 'Weak', 'Strong', 'Strong', 'Weak', 'Strong'],\n",
        "    'PlayTennis': ['No', 'No', 'Yes', 'Yes', 'Yes', 'No', 'Yes', 'No', 'Yes', 'Yes', 'Yes', 'Yes', 'Yes', 'No']\n",
        "})"
      ]
    },
    {
      "cell_type": "code",
      "execution_count": null,
      "id": "b0fc0487",
      "metadata": {
        "colab": {
          "base_uri": "https://localhost:8080/",
          "height": 488
        },
        "id": "b0fc0487",
        "outputId": "6d6067e8-a9d8-4de0-c36e-b37adaba82d9"
      },
      "outputs": [],
      "source": [
        "data"
      ]
    },
    {
      "cell_type": "markdown",
      "id": "4b3143f3",
      "metadata": {
        "id": "4b3143f3"
      },
      "source": [
        "## Now Define Function to  Calculate Entropy"
      ]
    },
    {
      "cell_type": "code",
      "execution_count": 38,
      "id": "c355d01d",
      "metadata": {
        "id": "c355d01d"
      },
      "outputs": [],
      "source": [
        "def entropy(y):\n",
        "  values,counts = np.unique(y, return_counts=True)\n",
        "  probabilities = counts / counts.sum()\n",
        "  return -np.sum(probabilities * np.log2(probabilities))"
      ]
    },
    {
      "cell_type": "markdown",
      "id": "f78c29c1",
      "metadata": {
        "id": "f78c29c1"
      },
      "source": [
        "## Testing of Above Function -\n",
        "y = np.array(['Yes', 'No',   'Yes', 'Yes'])  \n",
        "Function Call - > entropy(y))\n",
        "\n",
        "output - 0.8112781244591328"
      ]
    },
    {
      "cell_type": "code",
      "execution_count": 39,
      "id": "9ad3df81",
      "metadata": {
        "colab": {
          "base_uri": "https://localhost:8080/"
        },
        "id": "9ad3df81",
        "outputId": "10b8db0e-f787-45f4-9c4b-97ca8d932fb5"
      },
      "outputs": [
        {
          "data": {
            "text/plain": [
              "np.float64(0.8112781244591328)"
            ]
          },
          "execution_count": 39,
          "metadata": {},
          "output_type": "execute_result"
        }
      ],
      "source": [
        "y = np.array(['Yes', 'No','Yes', 'Yes'])\n",
        "entropy(y)\n"
      ]
    },
    {
      "cell_type": "markdown",
      "id": "c3ad0412",
      "metadata": {
        "id": "c3ad0412"
      },
      "source": [
        "## Define function to Calculate Information Gain"
      ]
    },
    {
      "cell_type": "code",
      "execution_count": 40,
      "id": "3ccc1ba9",
      "metadata": {
        "id": "3ccc1ba9"
      },
      "outputs": [],
      "source": [
        "def information_gain(data, split_attribute, target):\n",
        "  total_entropy = entropy(data[target])\n",
        "  values,counts = np.unique(data[split_attribute] , return_counts=True)\n",
        "\n",
        "  weighted_entropy = 0\n",
        "  for i in range(len(values)):\n",
        "    subset = data[data[split_attribute] == values[i]]\n",
        "    weighted_entropy += (counts[i] / counts.sum()) * entropy(subset[target])\n",
        "\n",
        "  return total_entropy - weighted_entropy"
      ]
    },
    {
      "cell_type": "markdown",
      "id": "04284268",
      "metadata": {
        "id": "04284268"
      },
      "source": [
        "## Testing of Above Function-\n",
        "data = pd.DataFrame({\n",
        "    'Weather': ['Sunny', 'Sunny', 'Rain', 'Rain'],\n",
        "    'Play':    ['Yes', 'No',   'Yes', 'Yes']\n",
        "})\n",
        "\n",
        "Function Call - > information_gain(data, 'Weather', 'Play')\n",
        "\n",
        "\n",
        "Output - 0.31127812445913283"
      ]
    },
    {
      "cell_type": "code",
      "execution_count": 41,
      "id": "c01a097d",
      "metadata": {
        "colab": {
          "base_uri": "https://localhost:8080/"
        },
        "id": "c01a097d",
        "outputId": "0d6e42a0-6f7f-4eb6-d7e3-366867f6f103"
      },
      "outputs": [
        {
          "data": {
            "text/plain": [
              "np.float64(0.31127812445913283)"
            ]
          },
          "execution_count": 41,
          "metadata": {},
          "output_type": "execute_result"
        }
      ],
      "source": [
        "data = pd.DataFrame({\n",
        "    'Weather': ['Sunny', 'Sunny', 'Rain', 'Rain'],\n",
        "    'Play':    ['Yes', 'No',   'Yes', 'Yes']\n",
        "})\n",
        "\n",
        "information_gain(data, 'Weather', 'Play')"
      ]
    },
    {
      "cell_type": "markdown",
      "id": "3b13d66b",
      "metadata": {
        "id": "3b13d66b"
      },
      "source": [
        "## Implement ID3 Algo"
      ]
    },
    {
      "cell_type": "code",
      "execution_count": 42,
      "id": "e24c1ace",
      "metadata": {
        "id": "e24c1ace"
      },
      "outputs": [],
      "source": [
        "def id3(data, features, target):\n",
        "\n",
        "\n",
        "  # If all labels are same → return the label\n",
        "  if len(np.unique(data[target])) == 1:\n",
        "    return np.unique(data[target])[0]\n",
        "\n",
        "\n",
        "  # If no features left → return majority label\n",
        "  if len(features) == 0:\n",
        "    return data[target].mode()[0]\n",
        "\n",
        "  # Choose best feature\n",
        "  gains = [information_gain(data,feature,target) for feature in features]\n",
        "  best_feature = features[np.argmax(gains)]\n",
        "\n",
        "  tree = {best_feature: {}}\n",
        "\n",
        "\n",
        "  # For each value of best feature → branch\n",
        "  for value in np.unique(data[best_feature]):\n",
        "    sub_data = data[data[best_feature] == value].drop(columns = [best_feature])\n",
        "    subtree = id3(sub_data , [f for f in features if f != best_feature],target)\n",
        "    tree[best_feature][value] = subtree\n",
        "\n",
        "  return tree"
      ]
    },
    {
      "cell_type": "markdown",
      "id": "ae7b171a",
      "metadata": {
        "id": "ae7b171a"
      },
      "source": [
        "## Use ID3"
      ]
    },
    {
      "cell_type": "code",
      "execution_count": 45,
      "id": "f3a2845c",
      "metadata": {
        "id": "f3a2845c"
      },
      "outputs": [],
      "source": [
        "features = list(data.columns[:-1])\n",
        "target = \"PlayTennis\"\n",
        "\n",
        "tree = id3(data,features,target)"
      ]
    },
    {
      "cell_type": "markdown",
      "id": "4d2956ef",
      "metadata": {
        "id": "4d2956ef"
      },
      "source": [
        "## Print Tree"
      ]
    },
    {
      "cell_type": "code",
      "execution_count": 46,
      "id": "d4b746b7",
      "metadata": {
        "colab": {
          "base_uri": "https://localhost:8080/"
        },
        "id": "d4b746b7",
        "outputId": "9bb289a3-8df2-4b46-e43c-603aa51c8ed3"
      },
      "outputs": [
        {
          "data": {
            "text/plain": [
              "{'Outlook': {'Overcast': 'Yes',\n",
              "  'Rain': {'Wind': {'Strong': 'No', 'Weak': 'Yes'}},\n",
              "  'Sunny': {'Humidity': {'High': 'No', 'Normal': 'Yes'}}}}"
            ]
          },
          "execution_count": 46,
          "metadata": {},
          "output_type": "execute_result"
        }
      ],
      "source": [
        "tree"
      ]
    }
  ],
  "metadata": {
    "colab": {
      "provenance": []
    },
    "kernelspec": {
      "display_name": "Python 3 (ipykernel)",
      "language": "python",
      "name": "python3"
    },
    "language_info": {
      "codemirror_mode": {
        "name": "ipython",
        "version": 3
      },
      "file_extension": ".py",
      "mimetype": "text/x-python",
      "name": "python",
      "nbconvert_exporter": "python",
      "pygments_lexer": "ipython3",
      "version": "3.9.13"
    }
  },
  "nbformat": 4,
  "nbformat_minor": 5
}
