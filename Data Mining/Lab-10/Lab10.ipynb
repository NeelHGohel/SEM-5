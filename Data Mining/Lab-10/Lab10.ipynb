{
  "cells": [
    {
      "cell_type": "markdown",
      "id": "02b33ee5",
      "metadata": {
        "id": "02b33ee5"
      },
      "source": [
        "<a href='https://www.darshan.ac.in/'> <img src='https://www.darshan.ac.in/Content/media/DU_Logo.svg' width=\"250\" height=\"300\"/></a>\n",
        "<pre>\n",
        "<center><b><h1>Data Mining</b></center>\n",
        "<center><b><h1>Gohel Neel</b></center>\n",
        "<center><b><h3>Enrollnment No. : 23010101089</b></center>\n",
        "<center><b><h3>Roll No. 327</b></center>\n",
        "<center><b><h3>Date: 22-08-2025</b></center>\n",
        "<center><b><h1>Lab - 10</b></center>    \n",
        "<pre>"
      ]
    },
    {
      "cell_type": "markdown",
      "id": "0a09b1b5",
      "metadata": {
        "id": "0a09b1b5"
      },
      "source": [
        "\n",
        "\n",
        "# Implement Decision Tree(ID3) in python\n",
        "Uses Information Gain to choose the best feature to split.\n",
        "\n",
        "Recursively builds the tree until stopping conditions are met."
      ]
    },
    {
      "cell_type": "markdown",
      "id": "a811596d",
      "metadata": {
        "id": "a811596d"
      },
      "source": [
        "1) Calculate Entropy for the dataset.<BR>\n",
        "2) Calculate Information Gain for each feature. <BR>\n",
        "3) Choose the feature with maximum Information Gain. <BR>\n",
        "4) Split dataset into subsets for that feature. <BR>\n",
        "5) Repeat recursively until: <BR>\n",
        "\n",
        "All samples in a node have the same label.<BR>\n",
        "No features are left.<BR>\n",
        "No data is left."
      ]
    },
    {
      "cell_type": "markdown",
      "id": "a2a39aab",
      "metadata": {
        "id": "a2a39aab"
      },
      "source": [
        "### Step 2. Import the dataset from this [address](https://raw.githubusercontent.com/justmarkham/DAT8/master/data/chipotle.tsv)."
      ]
    },
    {
      "cell_type": "markdown",
      "id": "6116e372",
      "metadata": {
        "id": "6116e372"
      },
      "source": [
        "##  import Pandas, Numpy"
      ]
    },
    {
      "cell_type": "code",
      "execution_count": 35,
      "id": "e30bca04",
      "metadata": {
        "id": "e30bca04"
      },
      "outputs": [],
      "source": [
        "import pandas as pd\n",
        "import numpy as np"
      ]
    },
    {
      "cell_type": "markdown",
      "id": "c6040543",
      "metadata": {
        "id": "c6040543"
      },
      "source": [
        "##  Create Following Data"
      ]
    },
    {
      "cell_type": "code",
      "execution_count": 44,
      "id": "060c6cb6",
      "metadata": {
        "id": "060c6cb6"
      },
      "outputs": [],
      "source": [
        "data = pd.DataFrame({\n",
        "    'Outlook': ['Sunny', 'Sunny', 'Overcast', 'Rain', 'Rain', 'Rain', 'Overcast', 'Sunny', 'Sunny', 'Rain', 'Sunny', 'Overcast', 'Overcast', 'Rain'],\n",
        "    'Temperature': ['Hot', 'Hot', 'Hot', 'Mild', 'Cool', 'Cool', 'Cool', 'Mild', 'Cool', 'Mild', 'Mild', 'Mild', 'Hot', 'Mild'],\n",
        "    'Humidity': ['High', 'High', 'High', 'High', 'Normal', 'Normal', 'Normal', 'High', 'Normal', 'Normal', 'Normal', 'High', 'Normal', 'High'],\n",
        "    'Wind': ['Weak', 'Strong', 'Weak', 'Weak', 'Weak', 'Strong', 'Strong', 'Weak', 'Weak', 'Weak', 'Strong', 'Strong', 'Weak', 'Strong'],\n",
        "    'PlayTennis': ['No', 'No', 'Yes', 'Yes', 'Yes', 'No', 'Yes', 'No', 'Yes', 'Yes', 'Yes', 'Yes', 'Yes', 'No']\n",
        "})"
      ]
    },
    {
      "cell_type": "code",
      "execution_count": 37,
      "id": "b0fc0487",
      "metadata": {
        "colab": {
          "base_uri": "https://localhost:8080/",
          "height": 488
        },
        "id": "b0fc0487",
        "outputId": "6d6067e8-a9d8-4de0-c36e-b37adaba82d9"
      },
      "outputs": [
        {
          "output_type": "execute_result",
          "data": {
            "text/plain": [
              "     Outlook Temperature Humidity    Wind PlayTennis\n",
              "0      Sunny         Hot     High    Weak         No\n",
              "1      Sunny         Hot     High  Strong         No\n",
              "2   Overcast         Hot     High    Weak        Yes\n",
              "3       Rain        Mild     High    Weak        Yes\n",
              "4       Rain        Cool   Normal    Weak        Yes\n",
              "5       Rain        Cool   Normal  Strong         No\n",
              "6   Overcast        Cool   Normal  Strong        Yes\n",
              "7      Sunny        Mild     High    Weak         No\n",
              "8      Sunny        Cool   Normal    Weak        Yes\n",
              "9       Rain        Mild   Normal    Weak        Yes\n",
              "10     Sunny        Mild   Normal  Strong        Yes\n",
              "11  Overcast        Mild     High  Strong        Yes\n",
              "12  Overcast         Hot   Normal    Weak        Yes\n",
              "13      Rain        Mild     High  Strong         No"
            ],
            "text/html": [
              "\n",
              "  <div id=\"df-8d38c2b1-0572-4cd4-8745-27708c7f5560\" class=\"colab-df-container\">\n",
              "    <div>\n",
              "<style scoped>\n",
              "    .dataframe tbody tr th:only-of-type {\n",
              "        vertical-align: middle;\n",
              "    }\n",
              "\n",
              "    .dataframe tbody tr th {\n",
              "        vertical-align: top;\n",
              "    }\n",
              "\n",
              "    .dataframe thead th {\n",
              "        text-align: right;\n",
              "    }\n",
              "</style>\n",
              "<table border=\"1\" class=\"dataframe\">\n",
              "  <thead>\n",
              "    <tr style=\"text-align: right;\">\n",
              "      <th></th>\n",
              "      <th>Outlook</th>\n",
              "      <th>Temperature</th>\n",
              "      <th>Humidity</th>\n",
              "      <th>Wind</th>\n",
              "      <th>PlayTennis</th>\n",
              "    </tr>\n",
              "  </thead>\n",
              "  <tbody>\n",
              "    <tr>\n",
              "      <th>0</th>\n",
              "      <td>Sunny</td>\n",
              "      <td>Hot</td>\n",
              "      <td>High</td>\n",
              "      <td>Weak</td>\n",
              "      <td>No</td>\n",
              "    </tr>\n",
              "    <tr>\n",
              "      <th>1</th>\n",
              "      <td>Sunny</td>\n",
              "      <td>Hot</td>\n",
              "      <td>High</td>\n",
              "      <td>Strong</td>\n",
              "      <td>No</td>\n",
              "    </tr>\n",
              "    <tr>\n",
              "      <th>2</th>\n",
              "      <td>Overcast</td>\n",
              "      <td>Hot</td>\n",
              "      <td>High</td>\n",
              "      <td>Weak</td>\n",
              "      <td>Yes</td>\n",
              "    </tr>\n",
              "    <tr>\n",
              "      <th>3</th>\n",
              "      <td>Rain</td>\n",
              "      <td>Mild</td>\n",
              "      <td>High</td>\n",
              "      <td>Weak</td>\n",
              "      <td>Yes</td>\n",
              "    </tr>\n",
              "    <tr>\n",
              "      <th>4</th>\n",
              "      <td>Rain</td>\n",
              "      <td>Cool</td>\n",
              "      <td>Normal</td>\n",
              "      <td>Weak</td>\n",
              "      <td>Yes</td>\n",
              "    </tr>\n",
              "    <tr>\n",
              "      <th>5</th>\n",
              "      <td>Rain</td>\n",
              "      <td>Cool</td>\n",
              "      <td>Normal</td>\n",
              "      <td>Strong</td>\n",
              "      <td>No</td>\n",
              "    </tr>\n",
              "    <tr>\n",
              "      <th>6</th>\n",
              "      <td>Overcast</td>\n",
              "      <td>Cool</td>\n",
              "      <td>Normal</td>\n",
              "      <td>Strong</td>\n",
              "      <td>Yes</td>\n",
              "    </tr>\n",
              "    <tr>\n",
              "      <th>7</th>\n",
              "      <td>Sunny</td>\n",
              "      <td>Mild</td>\n",
              "      <td>High</td>\n",
              "      <td>Weak</td>\n",
              "      <td>No</td>\n",
              "    </tr>\n",
              "    <tr>\n",
              "      <th>8</th>\n",
              "      <td>Sunny</td>\n",
              "      <td>Cool</td>\n",
              "      <td>Normal</td>\n",
              "      <td>Weak</td>\n",
              "      <td>Yes</td>\n",
              "    </tr>\n",
              "    <tr>\n",
              "      <th>9</th>\n",
              "      <td>Rain</td>\n",
              "      <td>Mild</td>\n",
              "      <td>Normal</td>\n",
              "      <td>Weak</td>\n",
              "      <td>Yes</td>\n",
              "    </tr>\n",
              "    <tr>\n",
              "      <th>10</th>\n",
              "      <td>Sunny</td>\n",
              "      <td>Mild</td>\n",
              "      <td>Normal</td>\n",
              "      <td>Strong</td>\n",
              "      <td>Yes</td>\n",
              "    </tr>\n",
              "    <tr>\n",
              "      <th>11</th>\n",
              "      <td>Overcast</td>\n",
              "      <td>Mild</td>\n",
              "      <td>High</td>\n",
              "      <td>Strong</td>\n",
              "      <td>Yes</td>\n",
              "    </tr>\n",
              "    <tr>\n",
              "      <th>12</th>\n",
              "      <td>Overcast</td>\n",
              "      <td>Hot</td>\n",
              "      <td>Normal</td>\n",
              "      <td>Weak</td>\n",
              "      <td>Yes</td>\n",
              "    </tr>\n",
              "    <tr>\n",
              "      <th>13</th>\n",
              "      <td>Rain</td>\n",
              "      <td>Mild</td>\n",
              "      <td>High</td>\n",
              "      <td>Strong</td>\n",
              "      <td>No</td>\n",
              "    </tr>\n",
              "  </tbody>\n",
              "</table>\n",
              "</div>\n",
              "    <div class=\"colab-df-buttons\">\n",
              "\n",
              "  <div class=\"colab-df-container\">\n",
              "    <button class=\"colab-df-convert\" onclick=\"convertToInteractive('df-8d38c2b1-0572-4cd4-8745-27708c7f5560')\"\n",
              "            title=\"Convert this dataframe to an interactive table.\"\n",
              "            style=\"display:none;\">\n",
              "\n",
              "  <svg xmlns=\"http://www.w3.org/2000/svg\" height=\"24px\" viewBox=\"0 -960 960 960\">\n",
              "    <path d=\"M120-120v-720h720v720H120Zm60-500h600v-160H180v160Zm220 220h160v-160H400v160Zm0 220h160v-160H400v160ZM180-400h160v-160H180v160Zm440 0h160v-160H620v160ZM180-180h160v-160H180v160Zm440 0h160v-160H620v160Z\"/>\n",
              "  </svg>\n",
              "    </button>\n",
              "\n",
              "  <style>\n",
              "    .colab-df-container {\n",
              "      display:flex;\n",
              "      gap: 12px;\n",
              "    }\n",
              "\n",
              "    .colab-df-convert {\n",
              "      background-color: #E8F0FE;\n",
              "      border: none;\n",
              "      border-radius: 50%;\n",
              "      cursor: pointer;\n",
              "      display: none;\n",
              "      fill: #1967D2;\n",
              "      height: 32px;\n",
              "      padding: 0 0 0 0;\n",
              "      width: 32px;\n",
              "    }\n",
              "\n",
              "    .colab-df-convert:hover {\n",
              "      background-color: #E2EBFA;\n",
              "      box-shadow: 0px 1px 2px rgba(60, 64, 67, 0.3), 0px 1px 3px 1px rgba(60, 64, 67, 0.15);\n",
              "      fill: #174EA6;\n",
              "    }\n",
              "\n",
              "    .colab-df-buttons div {\n",
              "      margin-bottom: 4px;\n",
              "    }\n",
              "\n",
              "    [theme=dark] .colab-df-convert {\n",
              "      background-color: #3B4455;\n",
              "      fill: #D2E3FC;\n",
              "    }\n",
              "\n",
              "    [theme=dark] .colab-df-convert:hover {\n",
              "      background-color: #434B5C;\n",
              "      box-shadow: 0px 1px 3px 1px rgba(0, 0, 0, 0.15);\n",
              "      filter: drop-shadow(0px 1px 2px rgba(0, 0, 0, 0.3));\n",
              "      fill: #FFFFFF;\n",
              "    }\n",
              "  </style>\n",
              "\n",
              "    <script>\n",
              "      const buttonEl =\n",
              "        document.querySelector('#df-8d38c2b1-0572-4cd4-8745-27708c7f5560 button.colab-df-convert');\n",
              "      buttonEl.style.display =\n",
              "        google.colab.kernel.accessAllowed ? 'block' : 'none';\n",
              "\n",
              "      async function convertToInteractive(key) {\n",
              "        const element = document.querySelector('#df-8d38c2b1-0572-4cd4-8745-27708c7f5560');\n",
              "        const dataTable =\n",
              "          await google.colab.kernel.invokeFunction('convertToInteractive',\n",
              "                                                    [key], {});\n",
              "        if (!dataTable) return;\n",
              "\n",
              "        const docLinkHtml = 'Like what you see? Visit the ' +\n",
              "          '<a target=\"_blank\" href=https://colab.research.google.com/notebooks/data_table.ipynb>data table notebook</a>'\n",
              "          + ' to learn more about interactive tables.';\n",
              "        element.innerHTML = '';\n",
              "        dataTable['output_type'] = 'display_data';\n",
              "        await google.colab.output.renderOutput(dataTable, element);\n",
              "        const docLink = document.createElement('div');\n",
              "        docLink.innerHTML = docLinkHtml;\n",
              "        element.appendChild(docLink);\n",
              "      }\n",
              "    </script>\n",
              "  </div>\n",
              "\n",
              "\n",
              "    <div id=\"df-df6d7ce1-5b69-4406-8953-668ec1cfff10\">\n",
              "      <button class=\"colab-df-quickchart\" onclick=\"quickchart('df-df6d7ce1-5b69-4406-8953-668ec1cfff10')\"\n",
              "                title=\"Suggest charts\"\n",
              "                style=\"display:none;\">\n",
              "\n",
              "<svg xmlns=\"http://www.w3.org/2000/svg\" height=\"24px\"viewBox=\"0 0 24 24\"\n",
              "     width=\"24px\">\n",
              "    <g>\n",
              "        <path d=\"M19 3H5c-1.1 0-2 .9-2 2v14c0 1.1.9 2 2 2h14c1.1 0 2-.9 2-2V5c0-1.1-.9-2-2-2zM9 17H7v-7h2v7zm4 0h-2V7h2v10zm4 0h-2v-4h2v4z\"/>\n",
              "    </g>\n",
              "</svg>\n",
              "      </button>\n",
              "\n",
              "<style>\n",
              "  .colab-df-quickchart {\n",
              "      --bg-color: #E8F0FE;\n",
              "      --fill-color: #1967D2;\n",
              "      --hover-bg-color: #E2EBFA;\n",
              "      --hover-fill-color: #174EA6;\n",
              "      --disabled-fill-color: #AAA;\n",
              "      --disabled-bg-color: #DDD;\n",
              "  }\n",
              "\n",
              "  [theme=dark] .colab-df-quickchart {\n",
              "      --bg-color: #3B4455;\n",
              "      --fill-color: #D2E3FC;\n",
              "      --hover-bg-color: #434B5C;\n",
              "      --hover-fill-color: #FFFFFF;\n",
              "      --disabled-bg-color: #3B4455;\n",
              "      --disabled-fill-color: #666;\n",
              "  }\n",
              "\n",
              "  .colab-df-quickchart {\n",
              "    background-color: var(--bg-color);\n",
              "    border: none;\n",
              "    border-radius: 50%;\n",
              "    cursor: pointer;\n",
              "    display: none;\n",
              "    fill: var(--fill-color);\n",
              "    height: 32px;\n",
              "    padding: 0;\n",
              "    width: 32px;\n",
              "  }\n",
              "\n",
              "  .colab-df-quickchart:hover {\n",
              "    background-color: var(--hover-bg-color);\n",
              "    box-shadow: 0 1px 2px rgba(60, 64, 67, 0.3), 0 1px 3px 1px rgba(60, 64, 67, 0.15);\n",
              "    fill: var(--button-hover-fill-color);\n",
              "  }\n",
              "\n",
              "  .colab-df-quickchart-complete:disabled,\n",
              "  .colab-df-quickchart-complete:disabled:hover {\n",
              "    background-color: var(--disabled-bg-color);\n",
              "    fill: var(--disabled-fill-color);\n",
              "    box-shadow: none;\n",
              "  }\n",
              "\n",
              "  .colab-df-spinner {\n",
              "    border: 2px solid var(--fill-color);\n",
              "    border-color: transparent;\n",
              "    border-bottom-color: var(--fill-color);\n",
              "    animation:\n",
              "      spin 1s steps(1) infinite;\n",
              "  }\n",
              "\n",
              "  @keyframes spin {\n",
              "    0% {\n",
              "      border-color: transparent;\n",
              "      border-bottom-color: var(--fill-color);\n",
              "      border-left-color: var(--fill-color);\n",
              "    }\n",
              "    20% {\n",
              "      border-color: transparent;\n",
              "      border-left-color: var(--fill-color);\n",
              "      border-top-color: var(--fill-color);\n",
              "    }\n",
              "    30% {\n",
              "      border-color: transparent;\n",
              "      border-left-color: var(--fill-color);\n",
              "      border-top-color: var(--fill-color);\n",
              "      border-right-color: var(--fill-color);\n",
              "    }\n",
              "    40% {\n",
              "      border-color: transparent;\n",
              "      border-right-color: var(--fill-color);\n",
              "      border-top-color: var(--fill-color);\n",
              "    }\n",
              "    60% {\n",
              "      border-color: transparent;\n",
              "      border-right-color: var(--fill-color);\n",
              "    }\n",
              "    80% {\n",
              "      border-color: transparent;\n",
              "      border-right-color: var(--fill-color);\n",
              "      border-bottom-color: var(--fill-color);\n",
              "    }\n",
              "    90% {\n",
              "      border-color: transparent;\n",
              "      border-bottom-color: var(--fill-color);\n",
              "    }\n",
              "  }\n",
              "</style>\n",
              "\n",
              "      <script>\n",
              "        async function quickchart(key) {\n",
              "          const quickchartButtonEl =\n",
              "            document.querySelector('#' + key + ' button');\n",
              "          quickchartButtonEl.disabled = true;  // To prevent multiple clicks.\n",
              "          quickchartButtonEl.classList.add('colab-df-spinner');\n",
              "          try {\n",
              "            const charts = await google.colab.kernel.invokeFunction(\n",
              "                'suggestCharts', [key], {});\n",
              "          } catch (error) {\n",
              "            console.error('Error during call to suggestCharts:', error);\n",
              "          }\n",
              "          quickchartButtonEl.classList.remove('colab-df-spinner');\n",
              "          quickchartButtonEl.classList.add('colab-df-quickchart-complete');\n",
              "        }\n",
              "        (() => {\n",
              "          let quickchartButtonEl =\n",
              "            document.querySelector('#df-df6d7ce1-5b69-4406-8953-668ec1cfff10 button');\n",
              "          quickchartButtonEl.style.display =\n",
              "            google.colab.kernel.accessAllowed ? 'block' : 'none';\n",
              "        })();\n",
              "      </script>\n",
              "    </div>\n",
              "\n",
              "  <div id=\"id_275868ea-a435-4ede-8975-9c2345a0a8cf\">\n",
              "    <style>\n",
              "      .colab-df-generate {\n",
              "        background-color: #E8F0FE;\n",
              "        border: none;\n",
              "        border-radius: 50%;\n",
              "        cursor: pointer;\n",
              "        display: none;\n",
              "        fill: #1967D2;\n",
              "        height: 32px;\n",
              "        padding: 0 0 0 0;\n",
              "        width: 32px;\n",
              "      }\n",
              "\n",
              "      .colab-df-generate:hover {\n",
              "        background-color: #E2EBFA;\n",
              "        box-shadow: 0px 1px 2px rgba(60, 64, 67, 0.3), 0px 1px 3px 1px rgba(60, 64, 67, 0.15);\n",
              "        fill: #174EA6;\n",
              "      }\n",
              "\n",
              "      [theme=dark] .colab-df-generate {\n",
              "        background-color: #3B4455;\n",
              "        fill: #D2E3FC;\n",
              "      }\n",
              "\n",
              "      [theme=dark] .colab-df-generate:hover {\n",
              "        background-color: #434B5C;\n",
              "        box-shadow: 0px 1px 3px 1px rgba(0, 0, 0, 0.15);\n",
              "        filter: drop-shadow(0px 1px 2px rgba(0, 0, 0, 0.3));\n",
              "        fill: #FFFFFF;\n",
              "      }\n",
              "    </style>\n",
              "    <button class=\"colab-df-generate\" onclick=\"generateWithVariable('data')\"\n",
              "            title=\"Generate code using this dataframe.\"\n",
              "            style=\"display:none;\">\n",
              "\n",
              "  <svg xmlns=\"http://www.w3.org/2000/svg\" height=\"24px\"viewBox=\"0 0 24 24\"\n",
              "       width=\"24px\">\n",
              "    <path d=\"M7,19H8.4L18.45,9,17,7.55,7,17.6ZM5,21V16.75L18.45,3.32a2,2,0,0,1,2.83,0l1.4,1.43a1.91,1.91,0,0,1,.58,1.4,1.91,1.91,0,0,1-.58,1.4L9.25,21ZM18.45,9,17,7.55Zm-12,3A5.31,5.31,0,0,0,4.9,8.1,5.31,5.31,0,0,0,1,6.5,5.31,5.31,0,0,0,4.9,4.9,5.31,5.31,0,0,0,6.5,1,5.31,5.31,0,0,0,8.1,4.9,5.31,5.31,0,0,0,12,6.5,5.46,5.46,0,0,0,6.5,12Z\"/>\n",
              "  </svg>\n",
              "    </button>\n",
              "    <script>\n",
              "      (() => {\n",
              "      const buttonEl =\n",
              "        document.querySelector('#id_275868ea-a435-4ede-8975-9c2345a0a8cf button.colab-df-generate');\n",
              "      buttonEl.style.display =\n",
              "        google.colab.kernel.accessAllowed ? 'block' : 'none';\n",
              "\n",
              "      buttonEl.onclick = () => {\n",
              "        google.colab.notebook.generateWithVariable('data');\n",
              "      }\n",
              "      })();\n",
              "    </script>\n",
              "  </div>\n",
              "\n",
              "    </div>\n",
              "  </div>\n"
            ],
            "application/vnd.google.colaboratory.intrinsic+json": {
              "type": "dataframe",
              "variable_name": "data",
              "summary": "{\n  \"name\": \"data\",\n  \"rows\": 14,\n  \"fields\": [\n    {\n      \"column\": \"Outlook\",\n      \"properties\": {\n        \"dtype\": \"category\",\n        \"num_unique_values\": 3,\n        \"samples\": [\n          \"Sunny\",\n          \"Overcast\",\n          \"Rain\"\n        ],\n        \"semantic_type\": \"\",\n        \"description\": \"\"\n      }\n    },\n    {\n      \"column\": \"Temperature\",\n      \"properties\": {\n        \"dtype\": \"category\",\n        \"num_unique_values\": 3,\n        \"samples\": [\n          \"Hot\",\n          \"Mild\",\n          \"Cool\"\n        ],\n        \"semantic_type\": \"\",\n        \"description\": \"\"\n      }\n    },\n    {\n      \"column\": \"Humidity\",\n      \"properties\": {\n        \"dtype\": \"category\",\n        \"num_unique_values\": 2,\n        \"samples\": [\n          \"Normal\",\n          \"High\"\n        ],\n        \"semantic_type\": \"\",\n        \"description\": \"\"\n      }\n    },\n    {\n      \"column\": \"Wind\",\n      \"properties\": {\n        \"dtype\": \"category\",\n        \"num_unique_values\": 2,\n        \"samples\": [\n          \"Strong\",\n          \"Weak\"\n        ],\n        \"semantic_type\": \"\",\n        \"description\": \"\"\n      }\n    },\n    {\n      \"column\": \"PlayTennis\",\n      \"properties\": {\n        \"dtype\": \"category\",\n        \"num_unique_values\": 2,\n        \"samples\": [\n          \"Yes\",\n          \"No\"\n        ],\n        \"semantic_type\": \"\",\n        \"description\": \"\"\n      }\n    }\n  ]\n}"
            }
          },
          "metadata": {},
          "execution_count": 37
        }
      ],
      "source": [
        "data"
      ]
    },
    {
      "cell_type": "markdown",
      "id": "4b3143f3",
      "metadata": {
        "id": "4b3143f3"
      },
      "source": [
        "## Now Define Function to  Calculate Entropy"
      ]
    },
    {
      "cell_type": "code",
      "execution_count": 38,
      "id": "c355d01d",
      "metadata": {
        "id": "c355d01d"
      },
      "outputs": [],
      "source": [
        "def entropy(y):\n",
        "  values,counts = np.unique(y, return_counts=True)\n",
        "  probabilities = counts / counts.sum()\n",
        "  return -np.sum(probabilities * np.log2(probabilities))"
      ]
    },
    {
      "cell_type": "markdown",
      "id": "f78c29c1",
      "metadata": {
        "id": "f78c29c1"
      },
      "source": [
        "## Testing of Above Function -\n",
        "y = np.array(['Yes', 'No',   'Yes', 'Yes'])  \n",
        "Function Call - > entropy(y))\n",
        "\n",
        "output - 0.8112781244591328"
      ]
    },
    {
      "cell_type": "code",
      "execution_count": 39,
      "id": "9ad3df81",
      "metadata": {
        "colab": {
          "base_uri": "https://localhost:8080/"
        },
        "id": "9ad3df81",
        "outputId": "10b8db0e-f787-45f4-9c4b-97ca8d932fb5"
      },
      "outputs": [
        {
          "output_type": "execute_result",
          "data": {
            "text/plain": [
              "np.float64(0.8112781244591328)"
            ]
          },
          "metadata": {},
          "execution_count": 39
        }
      ],
      "source": [
        "y = np.array(['Yes', 'No','Yes', 'Yes'])\n",
        "entropy(y)\n"
      ]
    },
    {
      "cell_type": "markdown",
      "id": "c3ad0412",
      "metadata": {
        "id": "c3ad0412"
      },
      "source": [
        "## Define function to Calculate Information Gain"
      ]
    },
    {
      "cell_type": "code",
      "execution_count": 40,
      "id": "3ccc1ba9",
      "metadata": {
        "id": "3ccc1ba9"
      },
      "outputs": [],
      "source": [
        "def information_gain(data, split_attribute, target):\n",
        "  total_entropy = entropy(data[target])\n",
        "  values,counts = np.unique(data[split_attribute] , return_counts=True)\n",
        "\n",
        "  weighted_entropy = 0\n",
        "  for i in range(len(values)):\n",
        "    subset = data[data[split_attribute] == values[i]]\n",
        "    weighted_entropy += (counts[i] / counts.sum()) * entropy(subset[target])\n",
        "\n",
        "  return total_entropy - weighted_entropy"
      ]
    },
    {
      "cell_type": "markdown",
      "id": "04284268",
      "metadata": {
        "id": "04284268"
      },
      "source": [
        "## Testing of Above Function-\n",
        "data = pd.DataFrame({\n",
        "    'Weather': ['Sunny', 'Sunny', 'Rain', 'Rain'],\n",
        "    'Play':    ['Yes', 'No',   'Yes', 'Yes']\n",
        "})\n",
        "\n",
        "Function Call - > information_gain(data, 'Weather', 'Play')\n",
        "\n",
        "\n",
        "Output - 0.31127812445913283"
      ]
    },
    {
      "cell_type": "code",
      "execution_count": 41,
      "id": "c01a097d",
      "metadata": {
        "colab": {
          "base_uri": "https://localhost:8080/"
        },
        "id": "c01a097d",
        "outputId": "0d6e42a0-6f7f-4eb6-d7e3-366867f6f103"
      },
      "outputs": [
        {
          "output_type": "execute_result",
          "data": {
            "text/plain": [
              "np.float64(0.31127812445913283)"
            ]
          },
          "metadata": {},
          "execution_count": 41
        }
      ],
      "source": [
        "data = pd.DataFrame({\n",
        "    'Weather': ['Sunny', 'Sunny', 'Rain', 'Rain'],\n",
        "    'Play':    ['Yes', 'No',   'Yes', 'Yes']\n",
        "})\n",
        "\n",
        "information_gain(data, 'Weather', 'Play')"
      ]
    },
    {
      "cell_type": "markdown",
      "id": "3b13d66b",
      "metadata": {
        "id": "3b13d66b"
      },
      "source": [
        "## Implement ID3 Algo"
      ]
    },
    {
      "cell_type": "code",
      "execution_count": 42,
      "id": "e24c1ace",
      "metadata": {
        "id": "e24c1ace"
      },
      "outputs": [],
      "source": [
        "def id3(data, features, target):\n",
        "\n",
        "\n",
        "  # If all labels are same → return the label\n",
        "  if len(np.unique(data[target])) == 1:\n",
        "    return np.unique(data[target])[0]\n",
        "\n",
        "\n",
        "  # If no features left → return majority label\n",
        "  if len(features) == 0:\n",
        "    return data[target].mode()[0]\n",
        "\n",
        "  # Choose best feature\n",
        "  gains = [information_gain(data,feature,target) for feature in features]\n",
        "  best_feature = features[np.argmax(gains)]\n",
        "\n",
        "  tree = {best_feature: {}}\n",
        "\n",
        "\n",
        "  # For each value of best feature → branch\n",
        "  for value in np.unique(data[best_feature]):\n",
        "    sub_data = data[data[best_feature] == value].drop(columns = [best_feature])\n",
        "    subtree = id3(sub_data , [f for f in features if f != best_feature],target)\n",
        "    tree[best_feature][value] = subtree\n",
        "\n",
        "  return tree"
      ]
    },
    {
      "cell_type": "markdown",
      "id": "ae7b171a",
      "metadata": {
        "id": "ae7b171a"
      },
      "source": [
        "## Use ID3"
      ]
    },
    {
      "cell_type": "code",
      "execution_count": 45,
      "id": "f3a2845c",
      "metadata": {
        "id": "f3a2845c"
      },
      "outputs": [],
      "source": [
        "features = list(data.columns[:-1])\n",
        "target = \"PlayTennis\"\n",
        "\n",
        "tree = id3(data,features,target)"
      ]
    },
    {
      "cell_type": "markdown",
      "id": "4d2956ef",
      "metadata": {
        "id": "4d2956ef"
      },
      "source": [
        "## Print Tree"
      ]
    },
    {
      "cell_type": "code",
      "execution_count": 46,
      "id": "d4b746b7",
      "metadata": {
        "colab": {
          "base_uri": "https://localhost:8080/"
        },
        "id": "d4b746b7",
        "outputId": "9bb289a3-8df2-4b46-e43c-603aa51c8ed3"
      },
      "outputs": [
        {
          "output_type": "execute_result",
          "data": {
            "text/plain": [
              "{'Outlook': {'Overcast': 'Yes',\n",
              "  'Rain': {'Wind': {'Strong': 'No', 'Weak': 'Yes'}},\n",
              "  'Sunny': {'Humidity': {'High': 'No', 'Normal': 'Yes'}}}}"
            ]
          },
          "metadata": {},
          "execution_count": 46
        }
      ],
      "source": [
        "tree"
      ]
    },
    {
      "cell_type": "markdown",
      "id": "f2acdf44",
      "metadata": {
        "id": "f2acdf44"
      },
      "source": [
        "## Extra: Create Predict Function"
      ]
    },
    {
      "cell_type": "code",
      "execution_count": null,
      "id": "d36f9f9a",
      "metadata": {
        "id": "d36f9f9a"
      },
      "outputs": [],
      "source": [
        "def predict(tree, sample):\n",
        ""
      ]
    },
    {
      "cell_type": "markdown",
      "id": "83859592",
      "metadata": {
        "id": "83859592"
      },
      "source": [
        "##  Extra: Predict for a sample\n",
        "sample = {'Outlook': 'Sunny', 'Temperature': 'Cool', 'Humidity': 'High', 'Wind': 'Strong'}\n",
        "\n",
        "\n",
        "Your Answer ?"
      ]
    },
    {
      "cell_type": "code",
      "execution_count": null,
      "id": "fa44fb7e",
      "metadata": {
        "id": "fa44fb7e"
      },
      "outputs": [],
      "source": []
    },
    {
      "cell_type": "code",
      "execution_count": null,
      "id": "667a3fdd",
      "metadata": {
        "id": "667a3fdd"
      },
      "outputs": [],
      "source": []
    }
  ],
  "metadata": {
    "kernelspec": {
      "display_name": "Python 3 (ipykernel)",
      "language": "python",
      "name": "python3"
    },
    "language_info": {
      "codemirror_mode": {
        "name": "ipython",
        "version": 3
      },
      "file_extension": ".py",
      "mimetype": "text/x-python",
      "name": "python",
      "nbconvert_exporter": "python",
      "pygments_lexer": "ipython3",
      "version": "3.9.13"
    },
    "colab": {
      "provenance": []
    }
  },
  "nbformat": 4,
  "nbformat_minor": 5
}