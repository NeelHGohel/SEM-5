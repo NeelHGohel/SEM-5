{
 "cells": [
  {
   "cell_type": "markdown",
   "id": "359025c2",
   "metadata": {
    "id": "359025c2"
   },
   "source": [
    "<center><a href='https://www.darshan.ac.in/'> <img src='https://www.darshan.ac.in/Content/media/DU_Logo.svg' width=\"250\" height=\"300\"/></a></center>\n",
    "<pre>\n",
    "<center><b><h1>Data Mining</b></center>\n",
    "<center><b><h1>Gohel Neel</b></center>\n",
    "<center><b><h3>Enrollnment No. : 23010101089</b></center>\n",
    "<center><b><h3>Date: 06-06-2025</b></center>\n",
    "<center><b><h1>Lab - 1</b></center>  \n",
    "<pre>"
   ]
  },
  {
   "cell_type": "markdown",
   "id": "f493e5c9",
   "metadata": {
    "id": "f493e5c9"
   },
   "source": [
    "# Introduction to Pandas Library Function:"
   ]
  },
  {
   "cell_type": "markdown",
   "id": "ec070177",
   "metadata": {
    "id": "ec070177"
   },
   "source": [
    "# Step-1 Import the pandas Libraries"
   ]
  },
  {
   "cell_type": "code",
   "execution_count": 2,
   "id": "12bb35a4",
   "metadata": {
    "id": "12bb35a4"
   },
   "outputs": [],
   "source": [
    "import pandas as pd"
   ]
  },
  {
   "cell_type": "markdown",
   "id": "539711f0",
   "metadata": {
    "id": "539711f0"
   },
   "source": [
    "# Step-2 Import the dataset from this:...."
   ]
  },
  {
   "cell_type": "code",
   "execution_count": null,
   "id": "793c1e70",
   "metadata": {
    "id": "793c1e70"
   },
   "outputs": [],
   "source": []
  },
  {
   "cell_type": "markdown",
   "id": "0f4bc181",
   "metadata": {
    "id": "0f4bc181"
   },
   "source": [
    "# Step-3 Read csv or excel File"
   ]
  },
  {
   "cell_type": "code",
   "execution_count": 3,
   "id": "993dc571",
   "metadata": {
    "id": "993dc571"
   },
   "outputs": [],
   "source": [
    "df = pd.read_csv('titanic.csv')"
   ]
  },
  {
   "cell_type": "markdown",
   "id": "50008df1",
   "metadata": {
    "id": "50008df1"
   },
   "source": [
    "# Step-4 Print Data from csv or excel File"
   ]
  },
  {
   "cell_type": "code",
   "execution_count": null,
   "id": "a878eb1a",
   "metadata": {
    "colab": {
     "base_uri": "https://localhost:8080/",
     "height": 423
    },
    "id": "a878eb1a",
    "outputId": "69fbc782-facb-40b6-c130-8f8abb3ae6b3",
    "scrolled": true
   },
   "outputs": [],
   "source": [
    "df"
   ]
  },
  {
   "cell_type": "markdown",
   "id": "ffeb6d6d",
   "metadata": {
    "id": "ffeb6d6d"
   },
   "source": [
    "# Step-5 See the First 10 Rows"
   ]
  },
  {
   "cell_type": "code",
   "execution_count": 5,
   "id": "17393c5c",
   "metadata": {
    "colab": {
     "base_uri": "https://localhost:8080/",
     "height": 363
    },
    "id": "17393c5c",
    "outputId": "83e6726d-804c-4949-e679-a17cd294b6de"
   },
   "outputs": [
    {
     "data": {
      "text/html": [
       "<div>\n",
       "<style scoped>\n",
       "    .dataframe tbody tr th:only-of-type {\n",
       "        vertical-align: middle;\n",
       "    }\n",
       "\n",
       "    .dataframe tbody tr th {\n",
       "        vertical-align: top;\n",
       "    }\n",
       "\n",
       "    .dataframe thead th {\n",
       "        text-align: right;\n",
       "    }\n",
       "</style>\n",
       "<table border=\"1\" class=\"dataframe\">\n",
       "  <thead>\n",
       "    <tr style=\"text-align: right;\">\n",
       "      <th></th>\n",
       "      <th>PassengerId</th>\n",
       "      <th>Survived</th>\n",
       "      <th>Pclass</th>\n",
       "      <th>Name</th>\n",
       "      <th>Sex</th>\n",
       "      <th>Age</th>\n",
       "      <th>SibSp</th>\n",
       "      <th>Parch</th>\n",
       "      <th>Ticket</th>\n",
       "      <th>Fare</th>\n",
       "      <th>Cabin</th>\n",
       "      <th>Embarked</th>\n",
       "    </tr>\n",
       "  </thead>\n",
       "  <tbody>\n",
       "    <tr>\n",
       "      <th>0</th>\n",
       "      <td>1</td>\n",
       "      <td>0</td>\n",
       "      <td>3</td>\n",
       "      <td>Braund, Mr. Owen Harris</td>\n",
       "      <td>male</td>\n",
       "      <td>22.0</td>\n",
       "      <td>1</td>\n",
       "      <td>0</td>\n",
       "      <td>A/5 21171</td>\n",
       "      <td>7.2500</td>\n",
       "      <td>NaN</td>\n",
       "      <td>S</td>\n",
       "    </tr>\n",
       "    <tr>\n",
       "      <th>1</th>\n",
       "      <td>2</td>\n",
       "      <td>1</td>\n",
       "      <td>1</td>\n",
       "      <td>Cumings, Mrs. John Bradley (Florence Briggs Th...</td>\n",
       "      <td>female</td>\n",
       "      <td>38.0</td>\n",
       "      <td>1</td>\n",
       "      <td>0</td>\n",
       "      <td>PC 17599</td>\n",
       "      <td>71.2833</td>\n",
       "      <td>C85</td>\n",
       "      <td>C</td>\n",
       "    </tr>\n",
       "    <tr>\n",
       "      <th>2</th>\n",
       "      <td>3</td>\n",
       "      <td>1</td>\n",
       "      <td>3</td>\n",
       "      <td>Heikkinen, Miss. Laina</td>\n",
       "      <td>female</td>\n",
       "      <td>26.0</td>\n",
       "      <td>0</td>\n",
       "      <td>0</td>\n",
       "      <td>STON/O2. 3101282</td>\n",
       "      <td>7.9250</td>\n",
       "      <td>NaN</td>\n",
       "      <td>S</td>\n",
       "    </tr>\n",
       "    <tr>\n",
       "      <th>3</th>\n",
       "      <td>4</td>\n",
       "      <td>1</td>\n",
       "      <td>1</td>\n",
       "      <td>Futrelle, Mrs. Jacques Heath (Lily May Peel)</td>\n",
       "      <td>female</td>\n",
       "      <td>35.0</td>\n",
       "      <td>1</td>\n",
       "      <td>0</td>\n",
       "      <td>113803</td>\n",
       "      <td>53.1000</td>\n",
       "      <td>C123</td>\n",
       "      <td>S</td>\n",
       "    </tr>\n",
       "    <tr>\n",
       "      <th>4</th>\n",
       "      <td>5</td>\n",
       "      <td>0</td>\n",
       "      <td>3</td>\n",
       "      <td>Allen, Mr. William Henry</td>\n",
       "      <td>male</td>\n",
       "      <td>35.0</td>\n",
       "      <td>0</td>\n",
       "      <td>0</td>\n",
       "      <td>373450</td>\n",
       "      <td>8.0500</td>\n",
       "      <td>NaN</td>\n",
       "      <td>S</td>\n",
       "    </tr>\n",
       "    <tr>\n",
       "      <th>5</th>\n",
       "      <td>6</td>\n",
       "      <td>0</td>\n",
       "      <td>3</td>\n",
       "      <td>Moran, Mr. James</td>\n",
       "      <td>male</td>\n",
       "      <td>NaN</td>\n",
       "      <td>0</td>\n",
       "      <td>0</td>\n",
       "      <td>330877</td>\n",
       "      <td>8.4583</td>\n",
       "      <td>NaN</td>\n",
       "      <td>Q</td>\n",
       "    </tr>\n",
       "    <tr>\n",
       "      <th>6</th>\n",
       "      <td>7</td>\n",
       "      <td>0</td>\n",
       "      <td>1</td>\n",
       "      <td>McCarthy, Mr. Timothy J</td>\n",
       "      <td>male</td>\n",
       "      <td>54.0</td>\n",
       "      <td>0</td>\n",
       "      <td>0</td>\n",
       "      <td>17463</td>\n",
       "      <td>51.8625</td>\n",
       "      <td>E46</td>\n",
       "      <td>S</td>\n",
       "    </tr>\n",
       "    <tr>\n",
       "      <th>7</th>\n",
       "      <td>8</td>\n",
       "      <td>0</td>\n",
       "      <td>3</td>\n",
       "      <td>Palsson, Master. Gosta Leonard</td>\n",
       "      <td>male</td>\n",
       "      <td>2.0</td>\n",
       "      <td>3</td>\n",
       "      <td>1</td>\n",
       "      <td>349909</td>\n",
       "      <td>21.0750</td>\n",
       "      <td>NaN</td>\n",
       "      <td>S</td>\n",
       "    </tr>\n",
       "    <tr>\n",
       "      <th>8</th>\n",
       "      <td>9</td>\n",
       "      <td>1</td>\n",
       "      <td>3</td>\n",
       "      <td>Johnson, Mrs. Oscar W (Elisabeth Vilhelmina Berg)</td>\n",
       "      <td>female</td>\n",
       "      <td>27.0</td>\n",
       "      <td>0</td>\n",
       "      <td>2</td>\n",
       "      <td>347742</td>\n",
       "      <td>11.1333</td>\n",
       "      <td>NaN</td>\n",
       "      <td>S</td>\n",
       "    </tr>\n",
       "    <tr>\n",
       "      <th>9</th>\n",
       "      <td>10</td>\n",
       "      <td>1</td>\n",
       "      <td>2</td>\n",
       "      <td>Nasser, Mrs. Nicholas (Adele Achem)</td>\n",
       "      <td>female</td>\n",
       "      <td>14.0</td>\n",
       "      <td>1</td>\n",
       "      <td>0</td>\n",
       "      <td>237736</td>\n",
       "      <td>30.0708</td>\n",
       "      <td>NaN</td>\n",
       "      <td>C</td>\n",
       "    </tr>\n",
       "  </tbody>\n",
       "</table>\n",
       "</div>"
      ],
      "text/plain": [
       "   PassengerId  Survived  Pclass  \\\n",
       "0            1         0       3   \n",
       "1            2         1       1   \n",
       "2            3         1       3   \n",
       "3            4         1       1   \n",
       "4            5         0       3   \n",
       "5            6         0       3   \n",
       "6            7         0       1   \n",
       "7            8         0       3   \n",
       "8            9         1       3   \n",
       "9           10         1       2   \n",
       "\n",
       "                                                Name     Sex   Age  SibSp  \\\n",
       "0                            Braund, Mr. Owen Harris    male  22.0      1   \n",
       "1  Cumings, Mrs. John Bradley (Florence Briggs Th...  female  38.0      1   \n",
       "2                             Heikkinen, Miss. Laina  female  26.0      0   \n",
       "3       Futrelle, Mrs. Jacques Heath (Lily May Peel)  female  35.0      1   \n",
       "4                           Allen, Mr. William Henry    male  35.0      0   \n",
       "5                                   Moran, Mr. James    male   NaN      0   \n",
       "6                            McCarthy, Mr. Timothy J    male  54.0      0   \n",
       "7                     Palsson, Master. Gosta Leonard    male   2.0      3   \n",
       "8  Johnson, Mrs. Oscar W (Elisabeth Vilhelmina Berg)  female  27.0      0   \n",
       "9                Nasser, Mrs. Nicholas (Adele Achem)  female  14.0      1   \n",
       "\n",
       "   Parch            Ticket     Fare Cabin Embarked  \n",
       "0      0         A/5 21171   7.2500   NaN        S  \n",
       "1      0          PC 17599  71.2833   C85        C  \n",
       "2      0  STON/O2. 3101282   7.9250   NaN        S  \n",
       "3      0            113803  53.1000  C123        S  \n",
       "4      0            373450   8.0500   NaN        S  \n",
       "5      0            330877   8.4583   NaN        Q  \n",
       "6      0             17463  51.8625   E46        S  \n",
       "7      1            349909  21.0750   NaN        S  \n",
       "8      2            347742  11.1333   NaN        S  \n",
       "9      0            237736  30.0708   NaN        C  "
      ]
     },
     "execution_count": 5,
     "metadata": {},
     "output_type": "execute_result"
    }
   ],
   "source": [
    "df.head(10)"
   ]
  },
  {
   "cell_type": "markdown",
   "id": "c87ff96e",
   "metadata": {
    "id": "c87ff96e"
   },
   "source": [
    "# Step-6 See the Last 10 Rows"
   ]
  },
  {
   "cell_type": "code",
   "execution_count": null,
   "id": "5cb640e1",
   "metadata": {
    "colab": {
     "base_uri": "https://localhost:8080/",
     "height": 363
    },
    "id": "5cb640e1",
    "outputId": "b0ec6b9e-0576-4e03-8d28-79cb880f438f"
   },
   "outputs": [],
   "source": [
    "df.tail(10)"
   ]
  },
  {
   "cell_type": "markdown",
   "id": "7f35e792",
   "metadata": {
    "id": "7f35e792"
   },
   "source": [
    "# Step-7 Data type of each columns"
   ]
  },
  {
   "cell_type": "code",
   "execution_count": 7,
   "id": "12b75a7a",
   "metadata": {
    "colab": {
     "base_uri": "https://localhost:8080/",
     "height": 460
    },
    "id": "12b75a7a",
    "outputId": "2c79bd08-ec56-4d50-8f32-e1eb03cd3ad8",
    "scrolled": true
   },
   "outputs": [
    {
     "data": {
      "text/plain": [
       "PassengerId      int64\n",
       "Survived         int64\n",
       "Pclass           int64\n",
       "Name            object\n",
       "Sex             object\n",
       "Age            float64\n",
       "SibSp            int64\n",
       "Parch            int64\n",
       "Ticket          object\n",
       "Fare           float64\n",
       "Cabin           object\n",
       "Embarked        object\n",
       "dtype: object"
      ]
     },
     "execution_count": 7,
     "metadata": {},
     "output_type": "execute_result"
    }
   ],
   "source": [
    "df.dtypes"
   ]
  },
  {
   "cell_type": "markdown",
   "id": "8fb193ee",
   "metadata": {
    "id": "8fb193ee"
   },
   "source": [
    "# Step-8 Display Summary Information"
   ]
  },
  {
   "cell_type": "code",
   "execution_count": null,
   "id": "0d9edc63",
   "metadata": {
    "colab": {
     "base_uri": "https://localhost:8080/"
    },
    "id": "0d9edc63",
    "outputId": "92cc794c-743a-4c6b-d002-e9a05fb3989c"
   },
   "outputs": [],
   "source": [
    "df.info()"
   ]
  },
  {
   "cell_type": "markdown",
   "id": "76b942e1",
   "metadata": {
    "id": "76b942e1"
   },
   "source": [
    "# Step-9 Access a specific column"
   ]
  },
  {
   "cell_type": "code",
   "execution_count": null,
   "id": "a70add09",
   "metadata": {
    "colab": {
     "base_uri": "https://localhost:8080/",
     "height": 458
    },
    "id": "a70add09",
    "outputId": "2ea15d3d-33d1-409b-dc78-29f8a1bb5edd"
   },
   "outputs": [],
   "source": [
    "df['Age']"
   ]
  },
  {
   "cell_type": "markdown",
   "id": "55365673",
   "metadata": {
    "id": "55365673"
   },
   "source": [
    "# Step-10 Access rows by their integer location"
   ]
  },
  {
   "cell_type": "code",
   "execution_count": 10,
   "id": "e89cc4b1",
   "metadata": {
    "colab": {
     "base_uri": "https://localhost:8080/",
     "height": 460
    },
    "id": "e89cc4b1",
    "outputId": "9b41eec6-b810-4000-a059-d4c9e2fd0d08",
    "scrolled": true
   },
   "outputs": [
    {
     "data": {
      "text/plain": [
       "PassengerId                    332\n",
       "Survived                         0\n",
       "Pclass                           1\n",
       "Name           Partner, Mr. Austen\n",
       "Sex                           male\n",
       "Age                           45.5\n",
       "SibSp                            0\n",
       "Parch                            0\n",
       "Ticket                      113043\n",
       "Fare                          28.5\n",
       "Cabin                         C124\n",
       "Embarked                         S\n",
       "Name: 331, dtype: object"
      ]
     },
     "execution_count": 10,
     "metadata": {},
     "output_type": "execute_result"
    }
   ],
   "source": [
    "df.iloc[331]"
   ]
  },
  {
   "cell_type": "markdown",
   "id": "ef3591cf",
   "metadata": {
    "id": "ef3591cf"
   },
   "source": [
    "# Step-11 Delete a specific Column"
   ]
  },
  {
   "cell_type": "code",
   "execution_count": null,
   "id": "7ffb2c4d",
   "metadata": {
    "colab": {
     "base_uri": "https://localhost:8080/",
     "height": 423
    },
    "id": "7ffb2c4d",
    "outputId": "c85a9cce-676b-49f9-933e-93801b8cc80f"
   },
   "outputs": [],
   "source": [
    "df.drop('Age',axis=1)"
   ]
  },
  {
   "cell_type": "code",
   "execution_count": null,
   "id": "7HfZ1dDoS18b",
   "metadata": {
    "colab": {
     "base_uri": "https://localhost:8080/",
     "height": 423
    },
    "id": "7HfZ1dDoS18b",
    "outputId": "c2c83cad-cfda-4a54-8e54-792e3ee3298e",
    "scrolled": true
   },
   "outputs": [],
   "source": [
    "#delete row\n",
    "df.drop(2)"
   ]
  },
  {
   "cell_type": "markdown",
   "id": "22c97515",
   "metadata": {
    "id": "22c97515"
   },
   "source": [
    "# Step-12  Create a new Column"
   ]
  },
  {
   "cell_type": "code",
   "execution_count": null,
   "id": "89515a51",
   "metadata": {
    "colab": {
     "base_uri": "https://localhost:8080/",
     "height": 423
    },
    "id": "89515a51",
    "outputId": "7e6c5534-2937-491e-b7ca-d70a9c662144",
    "scrolled": true
   },
   "outputs": [],
   "source": [
    "df['Amount'] = df['Fare'] * 10\n",
    "df"
   ]
  },
  {
   "cell_type": "markdown",
   "id": "4a34a0d3",
   "metadata": {
    "id": "4a34a0d3"
   },
   "source": [
    "# Step-13  Perform Condition Selection on DataFrame"
   ]
  },
  {
   "cell_type": "code",
   "execution_count": 14,
   "id": "6cbe71fc",
   "metadata": {
    "colab": {
     "base_uri": "https://localhost:8080/",
     "height": 80
    },
    "id": "6cbe71fc",
    "outputId": "59f410a8-b0c4-4466-c132-99a1c71feb24"
   },
   "outputs": [
    {
     "data": {
      "text/html": [
       "<div>\n",
       "<style scoped>\n",
       "    .dataframe tbody tr th:only-of-type {\n",
       "        vertical-align: middle;\n",
       "    }\n",
       "\n",
       "    .dataframe tbody tr th {\n",
       "        vertical-align: top;\n",
       "    }\n",
       "\n",
       "    .dataframe thead th {\n",
       "        text-align: right;\n",
       "    }\n",
       "</style>\n",
       "<table border=\"1\" class=\"dataframe\">\n",
       "  <thead>\n",
       "    <tr style=\"text-align: right;\">\n",
       "      <th></th>\n",
       "      <th>PassengerId</th>\n",
       "      <th>Survived</th>\n",
       "      <th>Pclass</th>\n",
       "      <th>Name</th>\n",
       "      <th>Sex</th>\n",
       "      <th>Age</th>\n",
       "      <th>SibSp</th>\n",
       "      <th>Parch</th>\n",
       "      <th>Ticket</th>\n",
       "      <th>Fare</th>\n",
       "      <th>Cabin</th>\n",
       "      <th>Embarked</th>\n",
       "      <th>Amount</th>\n",
       "    </tr>\n",
       "  </thead>\n",
       "  <tbody>\n",
       "    <tr>\n",
       "      <th>378</th>\n",
       "      <td>379</td>\n",
       "      <td>0</td>\n",
       "      <td>3</td>\n",
       "      <td>Betros, Mr. Tannous</td>\n",
       "      <td>male</td>\n",
       "      <td>20.0</td>\n",
       "      <td>0</td>\n",
       "      <td>0</td>\n",
       "      <td>2648</td>\n",
       "      <td>4.0125</td>\n",
       "      <td>NaN</td>\n",
       "      <td>C</td>\n",
       "      <td>40.125</td>\n",
       "    </tr>\n",
       "  </tbody>\n",
       "</table>\n",
       "</div>"
      ],
      "text/plain": [
       "     PassengerId  Survived  Pclass                 Name   Sex   Age  SibSp  \\\n",
       "378          379         0       3  Betros, Mr. Tannous  male  20.0      0   \n",
       "\n",
       "     Parch Ticket    Fare Cabin Embarked  Amount  \n",
       "378      0   2648  4.0125   NaN        C  40.125  "
      ]
     },
     "execution_count": 14,
     "metadata": {},
     "output_type": "execute_result"
    }
   ],
   "source": [
    "df.query('Amount>10 & Amount<50')"
   ]
  },
  {
   "cell_type": "markdown",
   "id": "5a826e0b",
   "metadata": {
    "id": "5a826e0b"
   },
   "source": [
    "# Step-14 Compute the sum of value"
   ]
  },
  {
   "cell_type": "code",
   "execution_count": 15,
   "id": "1de97513",
   "metadata": {
    "colab": {
     "base_uri": "https://localhost:8080/"
    },
    "id": "1de97513",
    "outputId": "4db17f00-5c68-4901-92d4-1d73bb302630"
   },
   "outputs": [
    {
     "data": {
      "text/plain": [
       "np.float64(286939.493)"
      ]
     },
     "execution_count": 15,
     "metadata": {},
     "output_type": "execute_result"
    }
   ],
   "source": [
    "df['Amount'].sum()"
   ]
  },
  {
   "cell_type": "markdown",
   "id": "e170830c",
   "metadata": {
    "id": "e170830c"
   },
   "source": [
    "# Step-15 Compute the mean of value"
   ]
  },
  {
   "cell_type": "code",
   "execution_count": 16,
   "id": "45e01f32",
   "metadata": {
    "colab": {
     "base_uri": "https://localhost:8080/"
    },
    "id": "45e01f32",
    "outputId": "e685bcfa-f3f5-4362-81e2-8b46767a853c"
   },
   "outputs": [
    {
     "data": {
      "text/plain": [
       "np.float64(322.0420796857464)"
      ]
     },
     "execution_count": 16,
     "metadata": {},
     "output_type": "execute_result"
    }
   ],
   "source": [
    "df['Amount'].mean()"
   ]
  },
  {
   "cell_type": "markdown",
   "id": "cddd8d1c",
   "metadata": {
    "id": "cddd8d1c"
   },
   "source": [
    "# Step-16 Count non-null value (column)"
   ]
  },
  {
   "cell_type": "code",
   "execution_count": null,
   "id": "06bea0ae",
   "metadata": {
    "colab": {
     "base_uri": "https://localhost:8080/",
     "height": 491
    },
    "id": "06bea0ae",
    "outputId": "9a3efd7b-c084-4093-c5e8-5b3c6f1b34c1"
   },
   "outputs": [],
   "source": [
    "df.isnull().sum()"
   ]
  },
  {
   "cell_type": "markdown",
   "id": "5d5e3858",
   "metadata": {
    "id": "5d5e3858"
   },
   "source": [
    "# Step-17 Find Minimun or Maximum values"
   ]
  },
  {
   "cell_type": "code",
   "execution_count": 18,
   "id": "c6af8899",
   "metadata": {
    "colab": {
     "base_uri": "https://localhost:8080/"
    },
    "id": "c6af8899",
    "outputId": "b2216d2c-3c3b-475f-8546-827199ce2392"
   },
   "outputs": [
    {
     "data": {
      "text/plain": [
       "np.float64(0.0)"
      ]
     },
     "execution_count": 18,
     "metadata": {},
     "output_type": "execute_result"
    }
   ],
   "source": [
    "df['Amount'].min()"
   ]
  },
  {
   "cell_type": "code",
   "execution_count": 19,
   "id": "M87qcVSBW_q1",
   "metadata": {
    "colab": {
     "base_uri": "https://localhost:8080/"
    },
    "id": "M87qcVSBW_q1",
    "outputId": "65c43d89-056d-49b7-adde-bff4945eed65"
   },
   "outputs": [
    {
     "data": {
      "text/plain": [
       "np.float64(5123.292)"
      ]
     },
     "execution_count": 19,
     "metadata": {},
     "output_type": "execute_result"
    }
   ],
   "source": [
    "df['Amount'].max()"
   ]
  }
 ],
 "metadata": {
  "colab": {
   "provenance": []
  },
  "kernelspec": {
   "display_name": "Python 3 (ipykernel)",
   "language": "python",
   "name": "python3"
  },
  "language_info": {
   "codemirror_mode": {
    "name": "ipython",
    "version": 3
   },
   "file_extension": ".py",
   "mimetype": "text/x-python",
   "name": "python",
   "nbconvert_exporter": "python",
   "pygments_lexer": "ipython3",
   "version": "3.13.0"
  }
 },
 "nbformat": 4,
 "nbformat_minor": 5
}
